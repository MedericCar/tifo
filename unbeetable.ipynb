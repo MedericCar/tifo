{
 "cells": [
  {
   "cell_type": "code",
   "execution_count": 1,
   "id": "b238a97f",
   "metadata": {},
   "outputs": [],
   "source": [
    "%load_ext autoreload\n",
    "%autoreload 2"
   ]
  },
  {
   "cell_type": "markdown",
   "id": "98fae426",
   "metadata": {},
   "source": [
    "## Classifier with HOG descriptors"
   ]
  },
  {
   "cell_type": "code",
   "execution_count": 12,
   "id": "c46c5c89",
   "metadata": {},
   "outputs": [],
   "source": [
    "from joblib import dump\n",
    "from sklearn.svm import SVC\n",
    "import glob\n",
    "import matplotlib.pyplot as plt\n",
    "import numpy as np\n",
    "import os\n",
    "import pandas as pd\n",
    "\n",
    "import src.hog as hog\n",
    "from src.utils import train_test_split, score, read_img, plot_pts"
   ]
  },
  {
   "cell_type": "code",
   "execution_count": 3,
   "id": "c18fb355",
   "metadata": {},
   "outputs": [],
   "source": [
    "files = [os.path.splitext(os.path.basename(fn))[0] for fn in glob.glob('data/*.jpg')]\n",
    "pix_per_cell = (16, 16)"
   ]
  },
  {
   "cell_type": "markdown",
   "id": "c0a78540",
   "metadata": {},
   "source": [
    "### Train a classifier and test its performance"
   ]
  },
  {
   "cell_type": "code",
   "execution_count": 4,
   "id": "509378d1",
   "metadata": {},
   "outputs": [
    {
     "data": {
      "text/plain": [
       "True"
      ]
     },
     "execution_count": 4,
     "metadata": {},
     "output_type": "execute_result"
    }
   ],
   "source": [
    "test_files, train_files = train_test_split(files)\n",
    "len(test_files + train_files) == len(files) and set(test_files) != set(train_files)"
   ]
  },
  {
   "cell_type": "code",
   "execution_count": 7,
   "id": "4f8243e7",
   "metadata": {},
   "outputs": [],
   "source": [
    "x_train_tot, y_train_tot, _ = hog.create_hog_dataset(train_files, pix_per_cell)\n",
    "x_train_tot = np.concatenate(x_train_tot)\n",
    "y_train_tot = np.concatenate(y_train_tot)\n",
    "x_train, y_train = hog.select_subset(x_train_tot, y_train_tot)\n",
    "\n",
    "x_test, y_test, blocks_bounds = hog.create_hog_dataset(test_files, pix_per_cell)"
   ]
  },
  {
   "cell_type": "code",
   "execution_count": 8,
   "id": "0bc03ce4",
   "metadata": {},
   "outputs": [],
   "source": [
    "clf = SVC().fit(x_train, y_train)"
   ]
  },
  {
   "cell_type": "code",
   "execution_count": 13,
   "id": "81ef1869",
   "metadata": {},
   "outputs": [
    {
     "name": "stdout",
     "output_type": "stream",
     "text": [
      "Precision : 0.938\n",
      "Recall : 0.682\n",
      "F1 score : 0.789\n",
      "\n",
      "Precision : 0.667\n",
      "Recall : 0.727\n",
      "F1 score : 0.696\n",
      "\n",
      "Precision : 0.750\n",
      "Recall : 0.450\n",
      "F1 score : 0.563\n",
      "\n",
      "Precision : 0.857\n",
      "Recall : 0.545\n",
      "F1 score : 0.667\n",
      "\n",
      "Precision : 0.875\n",
      "Recall : 0.667\n",
      "F1 score : 0.757\n",
      "\n",
      "Precision : 0.889\n",
      "Recall : 0.727\n",
      "F1 score : 0.800\n",
      "\n",
      "Precision : 0.824\n",
      "Recall : 0.636\n",
      "F1 score : 0.718\n",
      "\n",
      "Precision : 1.000\n",
      "Recall : 0.727\n",
      "F1 score : 0.842\n",
      "\n",
      "Precision : 0.933\n",
      "Recall : 0.636\n",
      "F1 score : 0.757\n",
      "\n",
      "Precision : 0.917\n",
      "Recall : 0.550\n",
      "F1 score : 0.687\n",
      "\n",
      "Precision : 0.706\n",
      "Recall : 0.667\n",
      "F1 score : 0.686\n",
      "\n"
     ]
    }
   ],
   "source": [
    "for i, fn in enumerate(test_files):\n",
    "    \n",
    "    img = read_img(f'data/{fn}.jpg')    \n",
    "    true = pd.read_csv(f'data/{fn}.csv')\n",
    "    true_pts = list(true.itertuples(name=None, index=False))\n",
    "    \n",
    "    pred_pts = hog.predict(clf, x_test[i], blocks_bounds[i], overlap_threshold=2*pix_per_cell[0])\n",
    "\n",
    "    plt.figure(figsize=(30, 30))\n",
    "\n",
    "    ax = plt.subplot(121)\n",
    "    plt.title('Predictions')\n",
    "    plot_pts(img, pred_pts)\n",
    "\n",
    "    ax = plt.subplot(122)\n",
    "    plt.title('Ground truth')\n",
    "    plot_pts(img, true_pts)\n",
    "\n",
    "    plt.savefig('plots/' + fn + '_results.png')\n",
    "    plt.close()\n",
    "\n",
    "    score(true_pts, pred_pts)\n",
    "    print()"
   ]
  },
  {
   "cell_type": "markdown",
   "id": "39b3e303",
   "metadata": {},
   "source": [
    "### Train classifier on all the data and save it to disk"
   ]
  },
  {
   "cell_type": "code",
   "execution_count": 14,
   "id": "4ed7ff1f",
   "metadata": {},
   "outputs": [
    {
     "data": {
      "text/plain": [
       "['model/model.joblib']"
      ]
     },
     "execution_count": 14,
     "metadata": {},
     "output_type": "execute_result"
    }
   ],
   "source": [
    "x_tot, y_tot, _ = hog.create_hog_dataset(files, pix_per_cell)\n",
    "x_tot = np.concatenate(x_tot)\n",
    "y_tot = np.concatenate(y_tot)\n",
    "x, y = hog.select_subset(x_tot, y_tot)\n",
    "\n",
    "final_clf = SVC().fit(x, y)\n",
    "dump(final_clf, 'model/model.joblib') "
   ]
  }
 ],
 "metadata": {
  "kernelspec": {
   "display_name": "tifo",
   "language": "python",
   "name": "tifo"
  },
  "language_info": {
   "codemirror_mode": {
    "name": "ipython",
    "version": 3
   },
   "file_extension": ".py",
   "mimetype": "text/x-python",
   "name": "python",
   "nbconvert_exporter": "python",
   "pygments_lexer": "ipython3",
   "version": "3.9.5"
  }
 },
 "nbformat": 4,
 "nbformat_minor": 5
}
