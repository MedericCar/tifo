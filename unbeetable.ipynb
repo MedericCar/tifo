{
 "cells": [
  {
   "cell_type": "code",
   "execution_count": 17,
   "id": "961e3a65",
   "metadata": {},
   "outputs": [
    {
     "name": "stdout",
     "output_type": "stream",
     "text": [
      "The autoreload extension is already loaded. To reload it, use:\n",
      "  %reload_ext autoreload\n"
     ]
    }
   ],
   "source": [
    "%load_ext autoreload\n",
    "%autoreload 2"
   ]
  },
  {
   "cell_type": "markdown",
   "id": "74a44087",
   "metadata": {},
   "source": [
    "## Classifier with HOG descriptors"
   ]
  },
  {
   "cell_type": "code",
   "execution_count": 18,
   "id": "96b7c4fc",
   "metadata": {},
   "outputs": [],
   "source": [
    "from joblib import dump\n",
    "from sklearn.svm import SVC\n",
    "import glob\n",
    "\n",
    "import src.hog as hog\n",
    "from src.utils import train_test_split, score, read_img, plot_pts"
   ]
  },
  {
   "cell_type": "code",
   "execution_count": 19,
   "id": "ba3a814e",
   "metadata": {},
   "outputs": [],
   "source": [
    "files = [os.path.splitext(os.path.basename(fn))[0] for fn in glob.glob('data/*.jpg')]\n",
    "pix_per_cell = (16, 16)"
   ]
  },
  {
   "cell_type": "markdown",
   "id": "f35b7362",
   "metadata": {},
   "source": [
    "### Train a classifier and test its performance"
   ]
  },
  {
   "cell_type": "code",
   "execution_count": 20,
   "id": "1720825c",
   "metadata": {},
   "outputs": [
    {
     "data": {
      "text/plain": [
       "True"
      ]
     },
     "execution_count": 20,
     "metadata": {},
     "output_type": "execute_result"
    }
   ],
   "source": [
    "test_files, train_files = train_test_split(files)\n",
    "len(test_files + train_files) == len(files) and set(test_files) != set(train_files)"
   ]
  },
  {
   "cell_type": "code",
   "execution_count": 21,
   "id": "34ce7a85",
   "metadata": {},
   "outputs": [],
   "source": [
    "x_train_tot, y_train_tot, _ = hog.create_hog_dataset(train_files, pix_per_cell)\n",
    "x_train_tot = np.concatenate(x_train_tot)\n",
    "y_train_tot = np.concatenate(y_train_tot)\n",
    "x_train, y_train = hog.select_subset(x_train_tot, y_train_tot)\n",
    "\n",
    "x_test, y_test, blocks_bounds = hog.create_hog_dataset(test_files, pix_per_cell)"
   ]
  },
  {
   "cell_type": "code",
   "execution_count": 22,
   "id": "c5a78a39",
   "metadata": {},
   "outputs": [],
   "source": [
    "clf = SVC().fit(x_train, y_train)"
   ]
  },
  {
   "cell_type": "code",
   "execution_count": 23,
   "id": "584ec6bb",
   "metadata": {},
   "outputs": [
    {
     "name": "stdout",
     "output_type": "stream",
     "text": [
      "Precision : 1.000\n",
      "Recall : 0.682\n",
      "F1 score : 0.811\n",
      "\n",
      "Precision : 0.875\n",
      "Recall : 0.667\n",
      "F1 score : 0.757\n",
      "\n",
      "Precision : 0.714\n",
      "Recall : 0.682\n",
      "F1 score : 0.698\n",
      "\n",
      "Precision : 0.938\n",
      "Recall : 0.714\n",
      "F1 score : 0.811\n",
      "\n",
      "Precision : 0.846\n",
      "Recall : 0.524\n",
      "F1 score : 0.647\n",
      "\n",
      "Precision : 0.800\n",
      "Recall : 0.762\n",
      "F1 score : 0.780\n",
      "\n",
      "Precision : 0.909\n",
      "Recall : 0.500\n",
      "F1 score : 0.645\n",
      "\n",
      "Precision : 0.941\n",
      "Recall : 0.800\n",
      "F1 score : 0.865\n",
      "\n",
      "Precision : 0.842\n",
      "Recall : 0.762\n",
      "F1 score : 0.800\n",
      "\n",
      "Precision : 0.882\n",
      "Recall : 0.714\n",
      "F1 score : 0.789\n",
      "\n",
      "Precision : 0.889\n",
      "Recall : 0.727\n",
      "F1 score : 0.800\n",
      "\n"
     ]
    }
   ],
   "source": [
    "for i, fn in enumerate(test_files):\n",
    "    \n",
    "    img = read_img(f'data/{fn}.jpg')    \n",
    "    true = pd.read_csv(f'data/{fn}.csv')\n",
    "    true_pts = list(true.itertuples(name=None, index=False))\n",
    "    \n",
    "    pred_pts = hog.predict(clf, x_test[i], blocks_bounds[i], overlap_threshold=2*pix_per_cell[0])\n",
    "\n",
    "    plt.figure(figsize=(30, 30))\n",
    "\n",
    "    ax = plt.subplot(121)\n",
    "    plt.title('Predictions')\n",
    "    plot_pts(img, pred_pts)\n",
    "\n",
    "    ax = plt.subplot(122)\n",
    "    plt.title('Ground truth')\n",
    "    plot_pts(img, true_pts)\n",
    "\n",
    "    plt.savefig('plots/' + fn + '_results.png')\n",
    "    plt.close()\n",
    "\n",
    "    score(true_pts, pred_pts)\n",
    "    print()"
   ]
  },
  {
   "cell_type": "markdown",
   "id": "9466e4bf",
   "metadata": {},
   "source": [
    "### Train classifier on all the data and save it to disk"
   ]
  },
  {
   "cell_type": "code",
   "execution_count": 25,
   "id": "0ed9c3f1",
   "metadata": {},
   "outputs": [
    {
     "data": {
      "text/plain": [
       "['model/model.joblib']"
      ]
     },
     "execution_count": 25,
     "metadata": {},
     "output_type": "execute_result"
    }
   ],
   "source": [
    "x_tot, y_tot, _ = hog.create_hog_dataset(files, pix_per_cell)\n",
    "x_tot = np.concatenate(x_tot)\n",
    "y_tot = np.concatenate(y_tot)\n",
    "x, y = hog.select_subset(x_tot, y_tot)\n",
    "\n",
    "final_clf = SVC().fit(x, y)\n",
    "dump(final_clf, 'model/model.joblib') "
   ]
  },
  {
   "cell_type": "code",
   "execution_count": null,
   "id": "f51193a4",
   "metadata": {},
   "outputs": [],
   "source": []
  }
 ],
 "metadata": {
  "kernelspec": {
   "display_name": "tifo",
   "language": "python",
   "name": "tifo"
  },
  "language_info": {
   "codemirror_mode": {
    "name": "ipython",
    "version": 3
   },
   "file_extension": ".py",
   "mimetype": "text/x-python",
   "name": "python",
   "nbconvert_exporter": "python",
   "pygments_lexer": "ipython3",
   "version": "3.9.5"
  }
 },
 "nbformat": 4,
 "nbformat_minor": 5
}
